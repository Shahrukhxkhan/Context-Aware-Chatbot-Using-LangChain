{
 "cells": [
  {
   "cell_type": "code",
   "execution_count": null,
   "id": "77055c4f",
   "metadata": {},
   "outputs": [],
   "source": [
    "# Cell 1: Install Required Packages\n",
    "!pip install streamlit"
   ]
  },
  {
   "cell_type": "code",
   "execution_count": null,
   "id": "ee672257",
   "metadata": {},
   "outputs": [],
   "source": [
    "# Cell 2: Import Dependencies\n",
    "import streamlit as st\n",
    "from chatbot import setup_chatbot"
   ]
  },
  {
   "cell_type": "code",
   "execution_count": null,
   "id": "217c9ee8",
   "metadata": {},
   "outputs": [],
   "source": [
    "# Cell 3: Initialize Chatbot (Cached)\n",
    "@st.cache_resource\n",
    "def load_chatbot():\n",
    "    \"\"\"Initialize and cache the chatbot to avoid reloading\"\"\"\n",
    "    return setup_chatbot()\n",
    "\n",
    "qa_chain = load_chatbot()\n"
   ]
  },
  {
   "cell_type": "code",
   "execution_count": null,
   "id": "e608ff37",
   "metadata": {},
   "outputs": [],
   "source": [
    "# Cell 4: Setup Streamlit UI\n",
    "st.title(\"Shahrukh Chatbot\")\n",
    "st.caption(\"Ask questions about your PDFs\")\n",
    "\n",
    "# Initialize chat history\n",
    "if \"messages\" not in st.session_state:\n",
    "    st.session_state.messages = []"
   ]
  },
  {
   "cell_type": "code",
   "execution_count": null,
   "id": "65812914",
   "metadata": {},
   "outputs": [],
   "source": [
    "# Cell 5: Display Chat History\n",
    "# Display previous messages\n",
    "for message in st.session_state.messages:\n",
    "    with st.chat_message(message[\"role\"]):\n",
    "        st.markdown(message[\"content\"])"
   ]
  },
  {
   "cell_type": "code",
   "execution_count": null,
   "id": "5043245f",
   "metadata": {},
   "outputs": [],
   "source": [
    "# Cell 6: Handle User Input and Responses\n",
    "if prompt := st.chat_input(\"What would you like to know?\"):\n",
    "    # Add user message to chat history\n",
    "    st.session_state.messages.append({\"role\": \"user\", \"content\": prompt})\n",
    "    \n",
    "    # Display user message\n",
    "    with st.chat_message(\"user\"):\n",
    "        st.markdown(prompt)\n",
    "    \n",
    "    # Get chatbot response\n",
    "    response = qa_chain({\"question\": prompt})\n",
    "    \n",
    "    # Display assistant response\n",
    "    with st.chat_message(\"assistant\"):\n",
    "        st.markdown(response[\"answer\"])\n",
    "    \n",
    "    # Add assistant response to chat history\n",
    "    st.session_state.messages.append({\"role\": \"assistant\", \"content\": response[\"answer\"]})"
   ]
  },
  {
   "cell_type": "code",
   "execution_count": null,
   "id": "320a4028",
   "metadata": {},
   "outputs": [],
   "source": [
    "# Cell 7: Run Streamlit App (Notebook Version)\n",
    "# Note: This won't actually run Streamlit in Jupyter - use for reference only\n",
    "print(\"To run this app, use the following command in your terminal:\")\n",
    "print(\"streamlit run app.py\")"
   ]
  }
 ],
 "metadata": {
  "language_info": {
   "name": "python"
  }
 },
 "nbformat": 4,
 "nbformat_minor": 5
}
