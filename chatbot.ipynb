{
 "cells": [
  {
   "cell_type": "code",
   "execution_count": null,
   "id": "95cba8ae",
   "metadata": {},
   "outputs": [],
   "source": []
  }
 ],
 "metadata": {
  "language_info": {
   "name": "python"
  }
 },
 "nbformat": 4,
 "nbformat_minor": 5
}
